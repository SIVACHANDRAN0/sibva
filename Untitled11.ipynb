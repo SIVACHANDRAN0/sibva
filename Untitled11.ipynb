{
 "cells": [
  {
   "cell_type": "code",
   "execution_count": null,
   "id": "909900c0",
   "metadata": {},
   "outputs": [],
   "source": [
    "# import module \n",
    "import pandas as pd \n",
    "\n",
    "# Creating our dataset \n",
    "df = pd.DataFrame([[9, 4, 8, 9], \n",
    "                   [8, 10, 7, 6], \n",
    "                   [7, 6, 8, 5]]\n",
    "columns=['Maths', 'English', 'Science', 'History']) \n",
    "\n",
    "# display dataset \n",
    "print(df) \n"
   ]
  }
 ],
 "metadata": {
  "kernelspec": {
   "display_name": "Python 3 (ipykernel)",
   "language": "python",
   "name": "python3"
  },
  "language_info": {
   "codemirror_mode": {
    "name": "ipython",
    "version": 3
   },
   "file_extension": ".py",
   "mimetype": "text/x-python",
   "name": "python",
   "nbconvert_exporter": "python",
   "pygments_lexer": "ipython3",
   "version": "3.11.5"
  }
 },
 "nbformat": 4,
 "nbformat_minor": 5
}
